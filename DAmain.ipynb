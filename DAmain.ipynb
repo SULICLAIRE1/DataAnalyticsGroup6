{
 "cells": [
  {
   "cell_type": "code",
   "execution_count": 22,
   "metadata": {},
   "outputs": [
    {
     "name": "stdout",
     "output_type": "stream",
     "text": [
      "Requirement already satisfied: pandas in /home/codespace/.local/lib/python3.10/site-packages (2.1.1)\n",
      "Requirement already satisfied: numpy>=1.22.4 in /home/codespace/.local/lib/python3.10/site-packages (from pandas) (1.26.0)\n",
      "Requirement already satisfied: python-dateutil>=2.8.2 in /home/codespace/.local/lib/python3.10/site-packages (from pandas) (2.8.2)\n",
      "Requirement already satisfied: pytz>=2020.1 in /home/codespace/.local/lib/python3.10/site-packages (from pandas) (2023.3.post1)\n",
      "Requirement already satisfied: tzdata>=2022.1 in /home/codespace/.local/lib/python3.10/site-packages (from pandas) (2023.3)\n",
      "Requirement already satisfied: six>=1.5 in /home/codespace/.local/lib/python3.10/site-packages (from python-dateutil>=2.8.2->pandas) (1.16.0)\n",
      "\n",
      "\u001b[1m[\u001b[0m\u001b[34;49mnotice\u001b[0m\u001b[1;39;49m]\u001b[0m\u001b[39;49m A new release of pip is available: \u001b[0m\u001b[31;49m23.2.1\u001b[0m\u001b[39;49m -> \u001b[0m\u001b[32;49m23.3.1\u001b[0m\n",
      "\u001b[1m[\u001b[0m\u001b[34;49mnotice\u001b[0m\u001b[1;39;49m]\u001b[0m\u001b[39;49m To update, run: \u001b[0m\u001b[32;49mpip install --upgrade pip\u001b[0m\n",
      "Note: you may need to restart the kernel to use updated packages.\n",
      "Requirement already satisfied: openpyxl in /usr/local/python/3.10.8/lib/python3.10/site-packages (3.1.2)\n",
      "Requirement already satisfied: et-xmlfile in /usr/local/python/3.10.8/lib/python3.10/site-packages (from openpyxl) (1.1.0)\n",
      "\n",
      "\u001b[1m[\u001b[0m\u001b[34;49mnotice\u001b[0m\u001b[1;39;49m]\u001b[0m\u001b[39;49m A new release of pip is available: \u001b[0m\u001b[31;49m23.2.1\u001b[0m\u001b[39;49m -> \u001b[0m\u001b[32;49m23.3.1\u001b[0m\n",
      "\u001b[1m[\u001b[0m\u001b[34;49mnotice\u001b[0m\u001b[1;39;49m]\u001b[0m\u001b[39;49m To update, run: \u001b[0m\u001b[32;49mpip install --upgrade pip\u001b[0m\n",
      "Note: you may need to restart the kernel to use updated packages.\n",
      "Requirement already satisfied: statsmodels in /usr/local/python/3.10.8/lib/python3.10/site-packages (0.14.0)\n",
      "Requirement already satisfied: numpy>=1.18 in /home/codespace/.local/lib/python3.10/site-packages (from statsmodels) (1.26.0)\n",
      "Requirement already satisfied: scipy!=1.9.2,>=1.4 in /home/codespace/.local/lib/python3.10/site-packages (from statsmodels) (1.11.3)\n",
      "Requirement already satisfied: pandas>=1.0 in /home/codespace/.local/lib/python3.10/site-packages (from statsmodels) (2.1.1)\n",
      "Requirement already satisfied: patsy>=0.5.2 in /usr/local/python/3.10.8/lib/python3.10/site-packages (from statsmodels) (0.5.3)\n",
      "Requirement already satisfied: packaging>=21.3 in /home/codespace/.local/lib/python3.10/site-packages (from statsmodels) (23.2)\n",
      "Requirement already satisfied: python-dateutil>=2.8.2 in /home/codespace/.local/lib/python3.10/site-packages (from pandas>=1.0->statsmodels) (2.8.2)\n",
      "Requirement already satisfied: pytz>=2020.1 in /home/codespace/.local/lib/python3.10/site-packages (from pandas>=1.0->statsmodels) (2023.3.post1)\n",
      "Requirement already satisfied: tzdata>=2022.1 in /home/codespace/.local/lib/python3.10/site-packages (from pandas>=1.0->statsmodels) (2023.3)\n",
      "Requirement already satisfied: six in /home/codespace/.local/lib/python3.10/site-packages (from patsy>=0.5.2->statsmodels) (1.16.0)\n",
      "\n",
      "\u001b[1m[\u001b[0m\u001b[34;49mnotice\u001b[0m\u001b[1;39;49m]\u001b[0m\u001b[39;49m A new release of pip is available: \u001b[0m\u001b[31;49m23.2.1\u001b[0m\u001b[39;49m -> \u001b[0m\u001b[32;49m23.3.1\u001b[0m\n",
      "\u001b[1m[\u001b[0m\u001b[34;49mnotice\u001b[0m\u001b[1;39;49m]\u001b[0m\u001b[39;49m To update, run: \u001b[0m\u001b[32;49mpip install --upgrade pip\u001b[0m\n",
      "Note: you may need to restart the kernel to use updated packages.\n"
     ]
    }
   ],
   "source": [
    "%pip install pandas\n",
    "%pip install openpyxl\n",
    "%pip install statsmodels"
   ]
  },
  {
   "cell_type": "code",
   "execution_count": 23,
   "metadata": {},
   "outputs": [],
   "source": [
    "import pandas as pd\n",
    "from pandas.io.formats.excel import ExcelFormatter\n",
    "# Download a CSV file\n",
    "data_url = './Insurance Claim.csv'\n",
    "\n",
    "# Read the CSV and store it in a DataFrame\n",
    "df = pd.read_csv(data_url)\n",
    "# df_excel = df.to_excel(\"insurance claim.xlsx\", sheet_name=\"insuranceclaim\", index=False)\n",
    "\n"
   ]
  },
  {
   "cell_type": "code",
   "execution_count": 6,
   "metadata": {},
   "outputs": [
    {
     "name": "stdout",
     "output_type": "stream",
     "text": [
      "      index  PatientID   age  gender   bmi  bloodpressure diabetic  children  \\\n",
      "0         0          1  39.0    male  23.2             91      Yes         0   \n",
      "1         1          2  24.0    male  30.1             87       No         0   \n",
      "2         2          3   NaN    male  33.3             82      Yes         0   \n",
      "3         3          4   NaN    male  33.7             80       No         0   \n",
      "4         4          5   NaN    male  34.1            100       No         0   \n",
      "...     ...        ...   ...     ...   ...            ...      ...       ...   \n",
      "1335   1335       1336  44.0  female  35.5             88      Yes         0   \n",
      "1336   1336       1337  59.0  female  38.1            120       No         1   \n",
      "1337   1337       1338  30.0    male  34.5             91      Yes         3   \n",
      "1338   1338       1339  37.0    male  30.4            106       No         0   \n",
      "1339   1339       1340  30.0  female  47.4            101       No         0   \n",
      "\n",
      "     smoker     region     claim  \n",
      "0        No  southeast   1121.87  \n",
      "1        No  southeast   1131.51  \n",
      "2        No  southeast   1135.94  \n",
      "3        No  northwest   1136.40  \n",
      "4        No  northwest   1137.01  \n",
      "...     ...        ...       ...  \n",
      "1335    Yes  northwest  55135.40  \n",
      "1336    Yes  northeast  58571.07  \n",
      "1337    Yes  northwest  60021.40  \n",
      "1338    Yes  southeast  62592.87  \n",
      "1339    Yes  southeast  63770.43  \n",
      "\n",
      "[1340 rows x 11 columns]\n"
     ]
    }
   ],
   "source": [
    "print(df)"
   ]
  },
  {
   "cell_type": "code",
   "execution_count": 24,
   "metadata": {},
   "outputs": [
    {
     "name": "stdout",
     "output_type": "stream",
     "text": [
      "index            False\n",
      "PatientID        False\n",
      "age               True\n",
      "gender           False\n",
      "bmi              False\n",
      "bloodpressure    False\n",
      "diabetic         False\n",
      "children         False\n",
      "smoker           False\n",
      "region            True\n",
      "claim            False\n",
      "dtype: bool\n"
     ]
    }
   ],
   "source": [
    "# Check for missing values in each column\n",
    "columns_with_missing_data = df.isna().any()\n",
    "\n",
    "# Print the columns with missing data\n",
    "print(columns_with_missing_data)"
   ]
  },
  {
   "cell_type": "code",
   "execution_count": 25,
   "metadata": {},
   "outputs": [
    {
     "name": "stdout",
     "output_type": "stream",
     "text": [
      "count    1335.000000\n",
      "mean       38.078652\n",
      "std        11.102924\n",
      "min        18.000000\n",
      "25%        29.000000\n",
      "50%        38.000000\n",
      "75%        47.000000\n",
      "max        60.000000\n",
      "Name: age, dtype: float64\n"
     ]
    },
    {
     "data": {
      "image/png": "[encoded data removed]",
      "text/plain": [
       "<Figure size 640x480 with 1 Axes>"
      ]
     },
     "metadata": {},
     "output_type": "display_data"
    }
   ],
   "source": [
    "age_descriptive_stats = df['age'].describe()\n",
    "print(age_descriptive_stats)\n",
    "\n",
    "import matplotlib.pyplot as plt\n",
    "\n",
    "plt.hist(df['age'], bins=60)\n",
    "plt.xlabel('Value')\n",
    "plt.ylabel('Frequency')\n",
    "plt.title('Histogram of a Column')\n",
    "plt.show()"
   ]
  },
  {
   "cell_type": "code",
   "execution_count": 26,
   "metadata": {},
   "outputs": [],
   "source": [
    "# fill null value in age column with mean\n",
    "df[\"age\"] = df[\"age\"].fillna(38)\n"
   ]
  },
  {
   "cell_type": "code",
   "execution_count": 27,
   "metadata": {},
   "outputs": [
    {
     "name": "stdout",
     "output_type": "stream",
     "text": [
      "count          1337\n",
      "unique            4\n",
      "top       southeast\n",
      "freq            443\n",
      "Name: region, dtype: object\n",
      "_________\n",
      "region\n",
      "southeast    443\n",
      "northwest    349\n",
      "southwest    314\n",
      "northeast    231\n",
      "Name: count, dtype: int64\n"
     ]
    },
    {
     "data": {
      "image/png": "[encoded data removed]",
      "text/plain": [
       "<Figure size 640x480 with 1 Axes>"
      ]
     },
     "metadata": {},
     "output_type": "display_data"
    }
   ],
   "source": [
    "# check the distribution of regions\n",
    "region_descriptive_stats = df['region'].describe()\n",
    "print(region_descriptive_stats)\n",
    "\n",
    "import matplotlib.pyplot as plt\n",
    "\n",
    "# Calculate the frequency of each unique value in the column\n",
    "value_counts = df['region'].value_counts()\n",
    "print('_________')\n",
    "print(value_counts)\n",
    "# Create a bar chart\n",
    "plt.bar(value_counts.index, value_counts.values)\n",
    "\n",
    "# Set labels and title\n",
    "plt.xlabel('Region')\n",
    "plt.ylabel('Count')\n",
    "plt.title('Bar Chart of Geographic distribution')\n",
    "\n",
    "# Show the chart\n",
    "plt.show()"
   ]
  },
  {
   "cell_type": "code",
   "execution_count": 28,
   "metadata": {},
   "outputs": [],
   "source": [
    "# fill null value in region column with southeast\n",
    "df[\"region\"] = df[\"region\"].fillna('southeast')"
   ]
  },
  {
   "cell_type": "code",
   "execution_count": 29,
   "metadata": {},
   "outputs": [],
   "source": [
    "# Create a mapping dictionary for gender\n",
    "gender_mapping = {'male': 0, 'female': 1}\n",
    "\n",
    "# Use the replace method to convert the 'Gender' column\n",
    "df['gender'] = df['gender'].replace(gender_mapping)"
   ]
  },
  {
   "cell_type": "code",
   "execution_count": 30,
   "metadata": {},
   "outputs": [],
   "source": [
    "# Create a mapping dictionary for diabetes\n",
    "mapping = {'No': 0, 'Yes': 1}\n",
    "\n",
    "# Use the replace method to convert the 'Gender' column\n",
    "df['diabetic'] = df['diabetic'].replace(mapping)\n",
    "\n",
    "df['smoker'] = df['smoker'].replace(mapping)"
   ]
  },
  {
   "cell_type": "code",
   "execution_count": 31,
   "metadata": {},
   "outputs": [],
   "source": [
    "# Convert the 'Region' column to one-hot encoding\n",
    "df_encoded = pd.get_dummies(df, columns=['region'],dtype=int, prefix=['region'])\n",
    "\n",
    "# drop the first 2 columns\n",
    "df_encoded = df_encoded.drop(columns=['index','PatientID'])"
   ]
  },
  {
   "cell_type": "code",
   "execution_count": 32,
   "metadata": {},
   "outputs": [
    {
     "name": "stdout",
     "output_type": "stream",
     "text": [
      "       age  gender   bmi  bloodpressure  diabetic  children  smoker     claim  \\\n",
      "0     39.0       0  23.2             91         1         0       0   1121.87   \n",
      "1     24.0       0  30.1             87         0         0       0   1131.51   \n",
      "2     38.0       0  33.3             82         1         0       0   1135.94   \n",
      "3     38.0       0  33.7             80         0         0       0   1136.40   \n",
      "4     38.0       0  34.1            100         0         0       0   1137.01   \n",
      "...    ...     ...   ...            ...       ...       ...     ...       ...   \n",
      "1335  44.0       1  35.5             88         1         0       1  55135.40   \n",
      "1336  59.0       1  38.1            120         0         1       1  58571.07   \n",
      "1337  30.0       0  34.5             91         1         3       1  60021.40   \n",
      "1338  37.0       0  30.4            106         0         0       1  62592.87   \n",
      "1339  30.0       1  47.4            101         0         0       1  63770.43   \n",
      "\n",
      "      region_northeast  region_northwest  region_southeast  region_southwest  \n",
      "0                    0                 0                 1                 0  \n",
      "1                    0                 0                 1                 0  \n",
      "2                    0                 0                 1                 0  \n",
      "3                    0                 1                 0                 0  \n",
      "4                    0                 1                 0                 0  \n",
      "...                ...               ...               ...               ...  \n",
      "1335                 0                 1                 0                 0  \n",
      "1336                 1                 0                 0                 0  \n",
      "1337                 0                 1                 0                 0  \n",
      "1338                 0                 0                 1                 0  \n",
      "1339                 0                 0                 1                 0  \n",
      "\n",
      "[1340 rows x 12 columns]\n"
     ]
    }
   ],
   "source": [
    "print(df_encoded)"
   ]
  },
  {
   "cell_type": "code",
   "execution_count": 18,
   "metadata": {},
   "outputs": [
    {
     "name": "stdout",
     "output_type": "stream",
     "text": [
      "Potential outliers for age: []\n"
     ]
    }
   ],
   "source": [
    "import numpy as np\n",
    "# Find outliers for age\n",
    "\n",
    "# Calculate quartiles\n",
    "Q1 = np.percentile(df_encoded[\"age\"], 25)\n",
    "Q3 = np.percentile(df_encoded[\"age\"], 75)\n",
    "\n",
    "# Calculate IQR\n",
    "IQR = Q3 - Q1\n",
    "\n",
    "# Define the lower and upper bounds for potential outliers\n",
    "lower_bound = Q1 - 1.5 * IQR\n",
    "upper_bound = Q3 + 1.5 * IQR\n",
    "\n",
    "# Find and print potential outliers\n",
    "outliers = [x for x in df_encoded[\"age\"] if x < lower_bound or x > upper_bound]\n",
    "print(\"Potential outliers for age:\", outliers)"
   ]
  },
  {
   "cell_type": "code",
   "execution_count": 38,
   "metadata": {},
   "outputs": [
    {
     "data": {
      "text/plain": [
       "0       39.0\n",
       "1       24.0\n",
       "2       38.0\n",
       "3       38.0\n",
       "4       38.0\n",
       "        ... \n",
       "1335    44.0\n",
       "1336    59.0\n",
       "1337    30.0\n",
       "1338    37.0\n",
       "1339    30.0\n",
       "Name: age, Length: 1318, dtype: float64"
      ]
     },
     "execution_count": 38,
     "metadata": {},
     "output_type": "execute_result"
    }
   ],
   "source": [
    "df_encoded[\"age\"].drop(outliers)"
   ]
  },
  {
   "cell_type": "code",
   "execution_count": 33,
   "metadata": {},
   "outputs": [
    {
     "name": "stdout",
     "output_type": "stream",
     "text": [
      "Potential outliers for bmi: [53.1, 50.4, 47.5, 48.1, 47.7, 49.1, 52.6, 47.6, 47.4]\n"
     ]
    }
   ],
   "source": [
    "import numpy as np\n",
    "# Find outliers for bmi\n",
    "\n",
    "# Calculate quartiles\n",
    "Q1 = np.percentile(df_encoded[\"bmi\"], 25)\n",
    "Q3 = np.percentile(df_encoded[\"bmi\"], 75)\n",
    "\n",
    "# Calculate IQR\n",
    "IQR = Q3 - Q1\n",
    "\n",
    "# Define the lower and upper bounds for potential outliers\n",
    "lower_bound = Q1 - 1.5 * IQR\n",
    "upper_bound = Q3 + 1.5 * IQR\n",
    "\n",
    "# Find and print potential outliers\n",
    "outliers = [x for x in df_encoded[\"bmi\"] if x < lower_bound or x > upper_bound]\n",
    "print(\"Potential outliers for bmi:\", outliers)"
   ]
  },
  {
   "cell_type": "code",
   "execution_count": 36,
   "metadata": {},
   "outputs": [
    {
     "data": {
      "text/plain": [
       "0       23.2\n",
       "1       30.1\n",
       "2       33.3\n",
       "3       33.7\n",
       "4       34.1\n",
       "        ... \n",
       "1335    35.5\n",
       "1336    38.1\n",
       "1337    34.5\n",
       "1338    30.4\n",
       "1339    47.4\n",
       "Name: bmi, Length: 1318, dtype: float64"
      ]
     },
     "execution_count": 36,
     "metadata": {},
     "output_type": "execute_result"
    }
   ],
   "source": [
    "df_encoded[\"bmi\"].drop(outliers)"
   ]
  },
  {
   "cell_type": "code",
   "execution_count": 34,
   "metadata": {},
   "outputs": [
    {
     "name": "stdout",
     "output_type": "stream",
     "text": [
      "Potential outliers for bloodpressure:\n",
      " [128, 135, 128, 126, 126, 137, 137, 119, 123, 130, 139, 132, 122, 129, 129, 136, 136, 125, 124, 140, 129, 131, 126, 135, 140, 140, 124, 127, 139, 119, 131, 124, 140, 123, 137, 131, 125, 119, 138, 139, 139, 132, 131, 128, 124, 120, 135, 124, 125, 120, 127, 140, 123, 130, 134, 137, 121, 133, 120, 127, 125, 120]\n"
     ]
    }
   ],
   "source": [
    "import numpy as np\n",
    "# Find outliers for bloodpressure\n",
    "\n",
    "# Calculate quartiles\n",
    "Q1 = np.percentile(df_encoded[\"bloodpressure\"], 25)\n",
    "Q3 = np.percentile(df_encoded[\"bloodpressure\"], 75)\n",
    "\n",
    "# Calculate IQR\n",
    "IQR = Q3 - Q1\n",
    "\n",
    "# Define the lower and upper bounds for potential outliers\n",
    "lower_bound = Q1 - 1.5 * IQR\n",
    "upper_bound = Q3 + 1.5 * IQR\n",
    "\n",
    "# Find and print potential outliers\n",
    "outliers = [x for x in df_encoded[\"bloodpressure\"] if x < lower_bound or x > upper_bound]\n",
    "print(\"Potential outliers for bloodpressure:\\n\", outliers)"
   ]
  },
  {
   "cell_type": "code",
   "execution_count": 37,
   "metadata": {},
   "outputs": [
    {
     "data": {
      "text/plain": [
       "0        91\n",
       "1        87\n",
       "2        82\n",
       "3        80\n",
       "4       100\n",
       "       ... \n",
       "1335     88\n",
       "1336    120\n",
       "1337     91\n",
       "1338    106\n",
       "1339    101\n",
       "Name: bloodpressure, Length: 1318, dtype: int64"
      ]
     },
     "execution_count": 37,
     "metadata": {},
     "output_type": "execute_result"
    }
   ],
   "source": [
    "df_encoded[\"bloodpressure\"].drop(outliers)"
   ]
  },
  {
   "cell_type": "code",
   "execution_count": 39,
   "metadata": {},
   "outputs": [
    {
     "name": "stdout",
     "output_type": "stream",
     "text": [
      "       age  gender   bmi  bloodpressure  diabetic  children  smoker     claim  \\\n",
      "0     39.0       0  23.2             91         1         0       0   1121.87   \n",
      "1     24.0       0  30.1             87         0         0       0   1131.51   \n",
      "2     38.0       0  33.3             82         1         0       0   1135.94   \n",
      "3     38.0       0  33.7             80         0         0       0   1136.40   \n",
      "4     38.0       0  34.1            100         0         0       0   1137.01   \n",
      "...    ...     ...   ...            ...       ...       ...     ...       ...   \n",
      "1219  35.0       0  37.0            108         1         0       1  36219.41   \n",
      "1221  31.0       1  34.7             96         0         2       1  36397.58   \n",
      "1223  20.0       0  35.3             86         0         0       1  36837.47   \n",
      "1224  60.0       1  32.5             97         0         0       1  36898.73   \n",
      "1228  32.0       1  36.1             97         1         0       1  37133.90   \n",
      "\n",
      "      region_northeast  region_northwest  region_southeast  region_southwest  \n",
      "0                    0                 0                 1                 0  \n",
      "1                    0                 0                 1                 0  \n",
      "2                    0                 0                 1                 0  \n",
      "3                    0                 1                 0                 0  \n",
      "4                    0                 1                 0                 0  \n",
      "...                ...               ...               ...               ...  \n",
      "1219                 0                 1                 0                 0  \n",
      "1221                 0                 0                 0                 1  \n",
      "1223                 0                 0                 0                 1  \n",
      "1224                 0                 1                 0                 0  \n",
      "1228                 0                 0                 1                 0  \n",
      "\n",
      "[927 rows x 12 columns]\n"
     ]
    }
   ],
   "source": [
    "# drop outliers in each column of a pandas DataFrame\n",
    "# using z-score method\n",
    "\n",
    "import pandas as pd\n",
    "import numpy as np\n",
    "from scipy import stats\n",
    "\n",
    "\n",
    "# Define a Z-score threshold\n",
    "z_threshold = 2\n",
    "\n",
    "# Calculate Z-scores for each column\n",
    "z_scores = np.abs(stats.zscore(df_encoded))\n",
    "\n",
    "# Create a mask to identify rows with outliers\n",
    "outlier_mask = (z_scores < z_threshold).all(axis=1)\n",
    "\n",
    "# Use the mask to filter the DataFrame and keep only rows without outliers\n",
    "df_cleaned = df_encoded[outlier_mask]\n",
    "\n",
    "print(df_cleaned)"
   ]
  },
  {
   "cell_type": "code",
   "execution_count": 57,
   "metadata": {},
   "outputs": [
    {
     "name": "stdout",
     "output_type": "stream",
     "text": [
      "       age  gender   bmi  bloodpressure  diabetic  children  smoker     claim  \\\n",
      "0     39.0       0  23.2             91         1         0       0   1121.87   \n",
      "1     24.0       0  30.1             87         0         0       0   1131.51   \n",
      "2     38.0       0  33.3             82         1         0       0   1135.94   \n",
      "3     38.0       0  33.7             80         0         0       0   1136.40   \n",
      "4     38.0       0  34.1            100         0         0       0   1137.01   \n",
      "...    ...     ...   ...            ...       ...       ...     ...       ...   \n",
      "1327  49.0       0  40.9            107         0         0       1  48673.56   \n",
      "1328  45.0       0  42.1            117         0         1       1  48675.52   \n",
      "1329  52.0       1  37.7            109         1         0       1  48824.45   \n",
      "1330  25.0       1  38.1            111         0         0       1  48885.14   \n",
      "1331  18.0       0  41.1            104         0         1       1  48970.25   \n",
      "\n",
      "      region_northeast  region_northwest  region_southeast  region_southwest  \n",
      "0                    0                 0                 1                 0  \n",
      "1                    0                 0                 1                 0  \n",
      "2                    0                 0                 1                 0  \n",
      "3                    0                 1                 0                 0  \n",
      "4                    0                 1                 0                 0  \n",
      "...                ...               ...               ...               ...  \n",
      "1327                 0                 0                 1                 0  \n",
      "1328                 0                 0                 1                 0  \n",
      "1329                 0                 0                 0                 1  \n",
      "1330                 0                 0                 1                 0  \n",
      "1331                 0                 0                 1                 0  \n",
      "\n",
      "[1332 rows x 12 columns]\n"
     ]
    }
   ],
   "source": [
    "import pandas as pd\n",
    "from scipy import stats\n",
    "\n",
    "# Calculate Z-scores\n",
    "variables_to_clean = ['bloodpressure','bmi','age','children','claim']\n",
    "for variable in variables_to_clean:\n",
    "\n",
    "    z_scores = np.abs(stats.zscore(df_encoded[variable]))\n",
    "\n",
    "    # Define Z-score threshold\n",
    "    z_threshold = 3\n",
    "\n",
    "    # Create a mask to identify and filter out data points that are outliers\n",
    "    outlier_mask = z_scores < z_threshold\n",
    "    data_cleaned = df_encoded[outlier_mask]\n",
    "\n",
    "print(data_cleaned)"
   ]
  },
  {
   "cell_type": "code",
   "execution_count": 54,
   "metadata": {},
   "outputs": [
    {
     "name": "stdout",
     "output_type": "stream",
     "text": [
      "0    1\n",
      "1    2\n",
      "2    3\n",
      "4    5\n",
      "5    6\n",
      "6    7\n",
      "7    8\n",
      "dtype: int64\n",
      "0    0.489847\n",
      "1    0.458244\n",
      "2    0.426641\n",
      "3    2.638853\n",
      "4    0.363435\n",
      "5    0.331832\n",
      "6    0.300229\n",
      "7    0.268626\n",
      "dtype: float64\n",
      "0     True\n",
      "1     True\n",
      "2     True\n",
      "3    False\n",
      "4     True\n",
      "5     True\n",
      "6     True\n",
      "7     True\n",
      "dtype: bool\n"
     ]
    }
   ],
   "source": [
    "import pandas as pd\n",
    "from scipy import stats\n",
    "\n",
    "# Create a sample Series\n",
    "data = pd.Series([1, 2, 3, 100, 5, 6, 7, 8])\n",
    "\n",
    "# Calculate Z-scores\n",
    "z_scores = np.abs(stats.zscore(data))\n",
    "\n",
    "# Define Z-score threshold\n",
    "z_threshold = 2\n",
    "\n",
    "# Create a mask to identify and filter out data points that are outliers\n",
    "outlier_mask = z_scores < z_threshold\n",
    "data_cleaned = data[outlier_mask]\n",
    "\n",
    "print(data_cleaned)\n",
    "print(z_scores)\n",
    "print(outlier_mask)"
   ]
  },
  {
   "cell_type": "code",
   "execution_count": 49,
   "metadata": {},
   "outputs": [
    {
     "name": "stdout",
     "output_type": "stream",
     "text": [
      "       age  gender   bmi  bloodpressure  diabetic  children  smoker     claim  \\\n",
      "0     39.0       0  23.2             91         1         0       0   1121.87   \n",
      "1     24.0       0  30.1             87         0         0       0   1131.51   \n",
      "2     38.0       0  33.3             82         1         0       0   1135.94   \n",
      "3     38.0       0  33.7             80         0         0       0   1136.40   \n",
      "4     38.0       0  34.1            100         0         0       0   1137.01   \n",
      "...    ...     ...   ...            ...       ...       ...     ...       ...   \n",
      "1172  57.0       1  25.8             98         1         0       0  28923.14   \n",
      "1178  27.0       0  37.7             95         0         3       0  30063.58   \n",
      "1179  19.0       0  24.7             97         1         1       0  30166.62   \n",
      "1182  36.0       0  25.4             84         0         2       0  30284.64   \n",
      "1190  29.0       1  37.5            106         1         2       0  33471.97   \n",
      "\n",
      "      region_northeast  region_northwest  region_southeast  region_southwest  \n",
      "0                    0                 0                 1                 0  \n",
      "1                    0                 0                 1                 0  \n",
      "2                    0                 0                 1                 0  \n",
      "3                    0                 1                 0                 0  \n",
      "4                    0                 1                 0                 0  \n",
      "...                ...               ...               ...               ...  \n",
      "1172                 0                 1                 0                 0  \n",
      "1178                 0                 1                 0                 0  \n",
      "1179                 0                 1                 0                 0  \n",
      "1182                 0                 1                 0                 0  \n",
      "1190                 0                 1                 0                 0  \n",
      "\n",
      "[637 rows x 12 columns]\n"
     ]
    }
   ],
   "source": [
    "# drop outliers in each column of a pandas DataFrame\n",
    "# using IQR method\n",
    "import pandas as pd\n",
    "\n",
    "# Calculate IQR\n",
    "Q1 = df_encoded.quantile(0.25)\n",
    "Q3 = df_encoded.quantile(0.75)\n",
    "IQR = Q3 - Q1\n",
    "\n",
    "# Define outlier thresholds\n",
    "lower_threshold = Q1 - 1.5 * IQR\n",
    "upper_threshold = Q3 + 1.5 * IQR\n",
    "\n",
    "# Create a mask to identify and filter out rows with outliers\n",
    "outlier_mask = ((df_encoded < lower_threshold) | (df_encoded > upper_threshold)).any(axis=1)\n",
    "df_cleaned_IQR = df_encoded[~outlier_mask]\n",
    "\n",
    "print(df_cleaned_IQR)"
   ]
  },
  {
   "cell_type": "code",
   "execution_count": 58,
   "metadata": {},
   "outputs": [
    {
     "name": "stdout",
     "output_type": "stream",
     "text": [
      "                            OLS Regression Results                            \n",
      "==============================================================================\n",
      "Dep. Variable:                  claim   R-squared:                       0.706\n",
      "Model:                            OLS   Adj. R-squared:                  0.704\n",
      "Method:                 Least Squares   F-statistic:                     317.1\n",
      "Date:                Fri, 27 Oct 2023   Prob (F-statistic):               0.00\n",
      "Time:                        15:49:12   Log-Likelihood:                -13547.\n",
      "No. Observations:                1332   AIC:                         2.712e+04\n",
      "Df Residuals:                    1321   BIC:                         2.717e+04\n",
      "Df Model:                          10                                         \n",
      "Covariance Type:            nonrobust                                         \n",
      "====================================================================================\n",
      "                       coef    std err          t      P>|t|      [0.025      0.975]\n",
      "------------------------------------------------------------------------------------\n",
      "const            -1.897e+04   1494.664    -12.695      0.000   -2.19e+04    -1.6e+04\n",
      "age                 15.7639     17.139      0.920      0.358     -17.859      49.387\n",
      "gender              81.5733    380.484      0.214      0.830    -664.845     827.992\n",
      "bmi                328.6884     29.681     11.074      0.000     270.462     386.915\n",
      "bloodpressure      228.8588     17.101     13.383      0.000     195.312     262.406\n",
      "diabetic          -211.8076    349.354     -0.606      0.544    -897.158     473.542\n",
      "children           736.8858    144.608      5.096      0.000     453.200    1020.572\n",
      "smoker            2.005e+04    482.107     41.587      0.000    1.91e+04     2.1e+04\n",
      "region_northeast -2869.0649    514.661     -5.575      0.000   -3878.707   -1859.423\n",
      "region_northwest -5071.4508    459.077    -11.047      0.000   -5972.051   -4170.851\n",
      "region_southeast -5877.8045    486.677    -12.077      0.000   -6832.548   -4923.061\n",
      "region_southwest -5156.1625    488.060    -10.565      0.000   -6113.620   -4198.706\n",
      "==============================================================================\n",
      "Omnibus:                      172.222   Durbin-Watson:                   1.274\n",
      "Prob(Omnibus):                  0.000   Jarque-Bera (JB):              271.173\n",
      "Skew:                           0.884   Prob(JB):                     1.30e-59\n",
      "Kurtosis:                       4.326   Cond. No.                     2.09e+17\n",
      "==============================================================================\n",
      "\n",
      "Notes:\n",
      "[1] Standard Errors assume that the covariance matrix of the errors is correctly specified.\n",
      "[2] The smallest eigenvalue is 3.45e-28. This might indicate that there are\n",
      "strong multicollinearity problems or that the design matrix is singular.\n"
     ]
    }
   ],
   "source": [
    "# using all variables in dataframe including outliers\n",
    "# Split the DataFrame into features (X) and target variable (y)\n",
    "import statsmodels.api as sm\n",
    "import numpy as np\n",
    "\n",
    "X = data_cleaned.drop('claim', axis=1)\n",
    "y = data_cleaned['claim']\n",
    "X = sm.add_constant(X)\n",
    "model = sm.OLS(y, X).fit()\n",
    "print(model.summary())"
   ]
  },
  {
   "cell_type": "code",
   "execution_count": 59,
   "metadata": {},
   "outputs": [
    {
     "name": "stdout",
     "output_type": "stream",
     "text": [
      "                            OLS Regression Results                            \n",
      "==============================================================================\n",
      "Dep. Variable:                  claim   R-squared:                       0.616\n",
      "Model:                            OLS   Adj. R-squared:                  0.616\n",
      "Method:                 Least Squares   F-statistic:                     2136.\n",
      "Date:                Fri, 27 Oct 2023   Prob (F-statistic):          7.13e-279\n",
      "Time:                        15:49:39   Log-Likelihood:                -13725.\n",
      "No. Observations:                1332   AIC:                         2.745e+04\n",
      "Df Residuals:                    1330   BIC:                         2.746e+04\n",
      "Df Model:                           1                                         \n",
      "Covariance Type:            nonrobust                                         \n",
      "==============================================================================\n",
      "                 coef    std err          t      P>|t|      [0.025      0.975]\n",
      "------------------------------------------------------------------------------\n",
      "const       8421.1216    221.331     38.048      0.000    7986.926    8855.317\n",
      "smoker      2.289e+04    495.282     46.213      0.000    2.19e+04    2.39e+04\n",
      "==============================================================================\n",
      "Omnibus:                      109.221   Durbin-Watson:                   1.003\n",
      "Prob(Omnibus):                  0.000   Jarque-Bera (JB):              145.917\n",
      "Skew:                           0.679   Prob(JB):                     2.06e-32\n",
      "Kurtosis:                       3.885   Cond. No.                         2.62\n",
      "==============================================================================\n",
      "\n",
      "Notes:\n",
      "[1] Standard Errors assume that the covariance matrix of the errors is correctly specified.\n"
     ]
    }
   ],
   "source": [
    "# using smoking in dataframe including outliers\n",
    "# Split the DataFrame into features (X) and target variable (y)\n",
    "import statsmodels.api as sm\n",
    "import numpy as np\n",
    "\n",
    "X = data_cleaned['smoker']\n",
    "y = data_cleaned['claim']\n",
    "X = sm.add_constant(X)\n",
    "model = sm.OLS(y, X).fit()\n",
    "print(model.summary())"
   ]
  },
  {
   "cell_type": "code",
   "execution_count": 48,
   "metadata": {},
   "outputs": [
    {
     "name": "stdout",
     "output_type": "stream",
     "text": [
      "                            OLS Regression Results                            \n",
      "==============================================================================\n",
      "Dep. Variable:                  claim   R-squared:                       0.436\n",
      "Model:                            OLS   Adj. R-squared:                  0.436\n",
      "Method:                 Least Squares   F-statistic:                     716.5\n",
      "Date:                Fri, 27 Oct 2023   Prob (F-statistic):          2.46e-117\n",
      "Time:                        14:56:18   Log-Likelihood:                -9319.2\n",
      "No. Observations:                 927   AIC:                         1.864e+04\n",
      "Df Residuals:                     925   BIC:                         1.865e+04\n",
      "Df Model:                           1                                         \n",
      "Covariance Type:            nonrobust                                         \n",
      "==============================================================================\n",
      "                 coef    std err          t      P>|t|      [0.025      0.975]\n",
      "------------------------------------------------------------------------------\n",
      "const       7661.4807    195.757     39.138      0.000    7277.301    8045.660\n",
      "smoker      1.587e+04    593.058     26.767      0.000    1.47e+04     1.7e+04\n",
      "==============================================================================\n",
      "Omnibus:                      255.127   Durbin-Watson:                   0.627\n",
      "Prob(Omnibus):                  0.000   Jarque-Bera (JB):              619.439\n",
      "Skew:                           1.458   Prob(JB):                    3.09e-135\n",
      "Kurtosis:                       5.744   Cond. No.                         3.25\n",
      "==============================================================================\n",
      "\n",
      "Notes:\n",
      "[1] Standard Errors assume that the covariance matrix of the errors is correctly specified.\n"
     ]
    }
   ],
   "source": [
    "# using smoking in dataframe excluding outliers\n",
    "# Split the DataFrame into features (X) and target variable (y)\n",
    "import statsmodels.api as sm\n",
    "import numpy as np\n",
    "\n",
    "X = df_cleaned['smoker']\n",
    "y = df_cleaned['claim']\n",
    "X = sm.add_constant(X)\n",
    "model = sm.OLS(y, X).fit()\n",
    "print(model.summary())"
   ]
  },
  {
   "cell_type": "code",
   "execution_count": 41,
   "metadata": {},
   "outputs": [
    {
     "name": "stdout",
     "output_type": "stream",
     "text": [
      "                            OLS Regression Results                            \n",
      "==============================================================================\n",
      "Dep. Variable:                  claim   R-squared:                       0.484\n",
      "Model:                            OLS   Adj. R-squared:                  0.479\n",
      "Method:                 Least Squares   F-statistic:                     95.71\n",
      "Date:                Fri, 27 Oct 2023   Prob (F-statistic):          1.85e-125\n",
      "Time:                        14:41:39   Log-Likelihood:                -9278.0\n",
      "No. Observations:                 927   AIC:                         1.858e+04\n",
      "Df Residuals:                     917   BIC:                         1.862e+04\n",
      "Df Model:                           9                                         \n",
      "Covariance Type:            nonrobust                                         \n",
      "====================================================================================\n",
      "                       coef    std err          t      P>|t|      [0.025      0.975]\n",
      "------------------------------------------------------------------------------------\n",
      "const            -9280.5236   1893.686     -4.901      0.000    -1.3e+04   -5564.062\n",
      "age                 15.3223     17.465      0.877      0.381     -18.955      49.599\n",
      "gender              80.2776    384.189      0.209      0.835    -673.714     834.269\n",
      "bmi                152.4012     34.373      4.434      0.000      84.943     219.860\n",
      "bloodpressure      153.7643     23.514      6.539      0.000     107.618     199.911\n",
      "diabetic           133.8119    357.244      0.375      0.708    -567.299     834.923\n",
      "children           737.9810    168.479      4.380      0.000     407.332    1068.630\n",
      "smoker             1.56e+04    591.546     26.370      0.000    1.44e+04    1.68e+04\n",
      "region_northeast -1.861e-12   8.95e-14    -20.797      0.000   -2.04e-12   -1.69e-12\n",
      "region_northwest -2828.4135    663.183     -4.265      0.000   -4129.946   -1526.881\n",
      "region_southeast -3650.1170    685.783     -5.323      0.000   -4996.003   -2304.231\n",
      "region_southwest -2801.9931    693.761     -4.039      0.000   -4163.536   -1440.450\n",
      "==============================================================================\n",
      "Omnibus:                      292.360   Durbin-Watson:                   0.766\n",
      "Prob(Omnibus):                  0.000   Jarque-Bera (JB):              829.477\n",
      "Skew:                           1.597   Prob(JB):                    7.61e-181\n",
      "Kurtosis:                       6.357   Cond. No.                     3.23e+18\n",
      "==============================================================================\n",
      "\n",
      "Notes:\n",
      "[1] Standard Errors assume that the covariance matrix of the errors is correctly specified.\n",
      "[2] The smallest eigenvalue is 9.61e-31. This might indicate that there are\n",
      "strong multicollinearity problems or that the design matrix is singular.\n"
     ]
    }
   ],
   "source": [
    "# using all variables in df_clean (excluding outliers)\n",
    "# Split the DataFrame into features (X) and target variable (y)\n",
    "import statsmodels.api as sm\n",
    "import numpy as np\n",
    "\n",
    "X = df_cleaned.drop('claim', axis=1)\n",
    "y = df_cleaned['claim']\n",
    "X = sm.add_constant(X)\n",
    "model = sm.OLS(y, X).fit()\n",
    "print(model.summary())"
   ]
  },
  {
   "cell_type": "code",
   "execution_count": 62,
   "metadata": {},
   "outputs": [
    {
     "name": "stdout",
     "output_type": "stream",
     "text": [
      "                            OLS Regression Results                            \n",
      "==============================================================================\n",
      "Dep. Variable:                  claim   R-squared:                       0.294\n",
      "Model:                            OLS   Adj. R-squared:                  0.293\n",
      "Method:                 Least Squares   F-statistic:                     276.3\n",
      "Date:                Fri, 27 Oct 2023   Prob (F-statistic):          4.71e-101\n",
      "Time:                        15:51:54   Log-Likelihood:                -14131.\n",
      "No. Observations:                1332   AIC:                         2.827e+04\n",
      "Df Residuals:                    1329   BIC:                         2.828e+04\n",
      "Df Model:                           2                                         \n",
      "Covariance Type:            nonrobust                                         \n",
      "=================================================================================\n",
      "                    coef    std err          t      P>|t|      [0.025      0.975]\n",
      "---------------------------------------------------------------------------------\n",
      "const         -4.336e+04   2478.650    -17.495      0.000   -4.82e+04   -3.85e+04\n",
      "bmi             216.6448     44.517      4.867      0.000     129.313     303.976\n",
      "bloodpressure   528.5651     23.914     22.102      0.000     481.651     575.479\n",
      "==============================================================================\n",
      "Omnibus:                      272.204   Durbin-Watson:                   0.552\n",
      "Prob(Omnibus):                  0.000   Jarque-Bera (JB):              478.656\n",
      "Skew:                           1.278   Prob(JB):                    1.15e-104\n",
      "Kurtosis:                       4.445   Cond. No.                         918.\n",
      "==============================================================================\n",
      "\n",
      "Notes:\n",
      "[1] Standard Errors assume that the covariance matrix of the errors is correctly specified.\n"
     ]
    }
   ],
   "source": [
    "# using all variables in df_clean (excluding outliers)\n",
    "# Split the DataFrame into features (X) and target variable (y)\n",
    "import statsmodels.api as sm\n",
    "import numpy as np\n",
    "\n",
    "X = data_cleaned[[\"bmi\",\"bloodpressure\"]]\n",
    "y = data_cleaned['claim']\n",
    "X = sm.add_constant(X)\n",
    "model = sm.OLS(y, X).fit()\n",
    "print(model.summary())"
   ]
  },
  {
   "cell_type": "code",
   "execution_count": 45,
   "metadata": {},
   "outputs": [
    {
     "name": "stdout",
     "output_type": "stream",
     "text": [
      "X_train_normalized shape: (1072, 11)\n",
      "X_test_normalized shape: (268, 11)\n"
     ]
    }
   ],
   "source": [
    "import pandas as pd\n",
    "from sklearn.model_selection import train_test_split\n",
    "from sklearn.preprocessing import MinMaxScaler\n",
    "\n",
    "# Load your dataset into a Pandas DataFrame\n",
    "# df = pd.read_csv('your_dataset.csv')\n",
    "\n",
    "# Split the DataFrame into features (X) and target variable (y)\n",
    "# Replace 'target_column' with the name of the target column in your dataset\n",
    "X = df_encoded.drop('claim', axis=1)\n",
    "y = df_encoded['claim']\n",
    "\n",
    "# Split the data into a training set and a test set (e.g., 80% train, 20% test)\n",
    "X_train, X_test, y_train, y_test = train_test_split(X, y, test_size=0.2, random_state=42)\n",
    "\n",
    "# Create a MinMaxScaler and fit it to the training set\n",
    "scaler = MinMaxScaler()\n",
    "scaler.fit(X_train)\n",
    "\n",
    "# Apply the same scaling to both the training and test sets\n",
    "X_train_normalized = scaler.transform(X_train)\n",
    "X_test_normalized = scaler.transform(X_test)\n",
    "\n",
    "# Display the shapes of the normalized sets\n",
    "print(\"X_train_normalized shape:\", X_train_normalized.shape)\n",
    "print(\"X_test_normalized shape:\", X_test_normalized.shape)\n"
   ]
  },
  {
   "cell_type": "code",
   "execution_count": 46,
   "metadata": {},
   "outputs": [
    {
     "name": "stdout",
     "output_type": "stream",
     "text": [
      "[[0.26190476 1.         0.6446281  0.08333333 1.         0.\n",
      "  0.         0.         0.         1.         0.        ]\n",
      " [0.42857143 0.         0.27548209 0.13333333 1.         0.2\n",
      "  0.         0.         1.         0.         0.        ]]\n",
      "__________\n",
      "      age  gender   bmi  bloodpressure  diabetic  children  smoker  \\\n",
      "394  29.0       1  40.2             85         1         0       0   \n",
      "881  36.0       0  26.8             88         1         1       0   \n",
      "\n",
      "     region_northeast  region_northwest  region_southeast  region_southwest  \n",
      "394                 0                 0                 1                 0  \n",
      "881                 0                 1                 0                 0  \n"
     ]
    }
   ],
   "source": [
    "print(X_test_normalized[0:2])\n",
    "print('__________')\n",
    "print(X_test[0:2])"
   ]
  },
  {
   "cell_type": "code",
   "execution_count": 47,
   "metadata": {},
   "outputs": [
    {
     "name": "stdout",
     "output_type": "stream",
     "text": [
      "Mean Squared Error: 42755486.03041891\n"
     ]
    }
   ],
   "source": [
    "from sklearn.linear_model import LinearRegression\n",
    "from sklearn.metrics import mean_squared_error\n",
    "\n",
    "# Create a Linear Regression model\n",
    "model = LinearRegression()\n",
    "\n",
    "# Fit the model to the training data\n",
    "model.fit(X_train_normalized, y_train)\n",
    "\n",
    "# Make predictions on the test set\n",
    "y_pred = model.predict(X_test_normalized)\n",
    "\n",
    "# Calculate the mean squared error\n",
    "mse = mean_squared_error(y_test, y_pred)\n",
    "print(f'Mean Squared Error: {mse}')\n"
   ]
  },
  {
   "cell_type": "code",
   "execution_count": 48,
   "metadata": {},
   "outputs": [
    {
     "name": "stdout",
     "output_type": "stream",
     "text": [
      "394      5400.98\n",
      "881     12609.89\n",
      "358      4934.71\n",
      "367      5116.50\n",
      "259      3877.30\n",
      "          ...   \n",
      "109      2150.47\n",
      "818     11576.13\n",
      "538      7418.52\n",
      "1286    42969.85\n",
      "714     10043.25\n",
      "Name: claim, Length: 268, dtype: float64 [ 7926.5408599   6147.69059461  8488.88815958  4002.9689563\n",
      "  9590.70400707  5404.35486339 28764.69145053 31632.24274611\n",
      "  7948.00998297 10303.81818    10166.52458162 10234.25736652\n",
      "  6412.43947849  7243.93239075  8801.07749471  8308.17691695\n",
      " 25557.59039216 13195.54375755  2124.81393422  8257.85680217\n",
      " 10166.02374679  9162.67490647  6199.83368597  9228.3604649\n",
      " 30256.44119675  8669.10444825 10961.92028646 10267.01068062\n",
      "  9791.38794256  7938.499372   31095.25863228  8865.05070106\n",
      "  6870.4521448  30032.07813158 11596.8250776   8208.75039315\n",
      "  5660.42242871 11333.26679466  6351.89059496  4150.36035878\n",
      "  5634.06334039  7798.43649834 11535.99738245  8332.67035355\n",
      "  4576.86261259 11587.03294141  2303.3599437   9443.98302077\n",
      " 14805.98215662  2955.47422704  7944.98305519 28257.79889256\n",
      "  7436.98085602 28779.65486064  9419.33344565 10017.17327097\n",
      " 10536.97278625 15549.01701998  8043.47829447  8793.77024293\n",
      "  8543.91118016  7719.77120363 28731.12285021  8245.17861287\n",
      " 29686.35802037  3993.6231757  11342.36402142  7193.97663424\n",
      " 13776.30162483  4865.77629187  9137.2416515  36150.75459228\n",
      " 35409.04674913 24013.28263959  8754.0634114  10070.762267\n",
      "  2114.00104433  6070.23665376 11180.3070177   6476.05525961\n",
      " 28079.57693662  3163.80526135  6178.46682164  8524.27216241\n",
      " 35548.67924769  4846.81483406  9374.03029949 15219.61526784\n",
      " 41350.51940401 11382.60280237  7972.6032912  11244.20945307\n",
      " 27836.46483342  7775.32594995  6181.28819324  9448.94877684\n",
      "  7443.07944724 39343.7804474  36112.72905771 13858.21873074\n",
      " 11414.04374639  5466.87738604 11482.93969631 26241.90893592\n",
      "  4561.26593376  9798.17554423  3318.66487183  6464.02778658\n",
      " 10282.80427649  6779.98685561  8782.23643063 15875.09137523\n",
      " 31781.99067565  9186.64966814 13465.80647937  6969.484061\n",
      "  3902.98421908 12899.74430131  5474.39258372 10828.02691612\n",
      " 34227.43866008  8388.17684319  7647.85959815  6722.20231886\n",
      "  8941.0044454  15990.23377277  5994.91953166 11650.97942699\n",
      " 12843.92841003  6301.18384738  8398.06845288  9994.60530051\n",
      " 34709.92913142  6701.95288523  6715.92380784  5062.81826272\n",
      "  7709.43037732 13923.24846281 14869.85912997 30194.03915589\n",
      " 47359.96110603 32963.27264755 12345.86987639  7277.84742118\n",
      "  7734.31072272  9912.38270991 12707.34343767  8080.34221504\n",
      " 40329.82697328 10645.04879968 34629.46454277 25067.92365222\n",
      " 30018.30282483 10803.9997957   5626.46065159  8241.43563759\n",
      " 34567.42766427 14865.90466201  6223.6910847  11476.11987935\n",
      "  5640.09664687  7162.63518266 10446.81021563  9813.0365296\n",
      " 25682.68494919  8023.49165821  9936.82535108  6510.54112153\n",
      "  7847.73601865  7925.9620713   8367.97304154  9034.73691111\n",
      " 35540.06398098 40297.45703248 35034.81790184  7791.17220669\n",
      "  5932.49714678 36082.40145537  7620.02936348  5028.37106892\n",
      "  9149.89917077 12214.26233688  7653.90997011  5014.36352539\n",
      " 26942.49797372  5039.4486502  27641.45871697  6807.7821349\n",
      " 11393.34490318 25745.77244859 13511.75134673 10600.35773536\n",
      " 12280.58815613  7459.30649042 11830.18502754 19684.07536076\n",
      "  8203.32802991  6090.22398797  2210.30163774 11529.38878647\n",
      " 12080.0502744  10484.81750095 45072.9285507  26645.82025347\n",
      " 10136.26362634  4117.3743411  29056.58649419  9629.61348856\n",
      "  8049.5862186  10904.8228141   9514.09480495  7338.19916431\n",
      " 17886.78939233  4482.69701265 32845.56748366  8028.72292499\n",
      "  7074.8817177   6046.04073499  2815.50411915 33206.10307801\n",
      "  6284.73530511  7661.34100412 11705.03296299  8708.92870764\n",
      "  8165.05652408 27198.59981383 11842.71437482 10728.85904193\n",
      " 33628.54264805 33589.83444345 11178.52130736  4109.2640938\n",
      "  8954.40888408  7831.97333799 31599.48477611 14312.5495869\n",
      "  6772.91616168  4149.47101677  7667.9580762  23664.99474268\n",
      " 13299.75277592 29702.0814326  28460.07031671  6396.20455483\n",
      "  8812.49282568 29393.96473324  8815.70684696 31292.6943914\n",
      " 10326.3338077  28305.98398728  8650.82893509 13563.8505071\n",
      " 28349.22081655  9397.05467615  6207.37237984 31974.85159851\n",
      " 11986.27388436 30804.15591159  2515.63567281 13237.4038903\n",
      "  4610.31577673  6735.69334971  7817.15221666  4849.91974101\n",
      " 14497.4149475   9131.09168095 36766.8744793  14014.714029  ]\n"
     ]
    }
   ],
   "source": [
    "print(y_test, y_pred)"
   ]
  }
 ],
 "metadata": {
  "kernelspec": {
   "display_name": "Python 3",
   "language": "python",
   "name": "python3"
  },
  "language_info": {
   "codemirror_mode": {
    "name": "ipython",
    "version": 3
   },
   "file_extension": ".py",
   "mimetype": "text/x-python",
   "name": "python",
   "nbconvert_exporter": "python",
   "pygments_lexer": "ipython3",
   "version": "3.10.8"
  }
 },
 "nbformat": 4,
 "nbformat_minor": 2
}
